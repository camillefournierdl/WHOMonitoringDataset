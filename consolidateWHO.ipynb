{
 "cells": [
  {
   "cell_type": "code",
   "execution_count": 8,
   "id": "abc91f8d",
   "metadata": {},
   "outputs": [],
   "source": [
    "import pandas as pd\n",
    "\n",
    "file_2011 = \"datasetWHO2011.csv\"\n",
    "file_2014 = \"datasetWHO2014.csv\"\n",
    "file_2016 = \"datasetWHO2016.csv\"\n",
    "file_2018 = \"datasetWHO2018.csv\"\n",
    "file_2022 = \"datasetWHO2022.csv\"\n",
    "file_2024 = \"datasetWHO2024.csv\"\n",
    "\n",
    "df_2011 = pd.read_csv(file_2011, delimiter=';', on_bad_lines='skip')\n",
    "df_2014 = pd.read_csv(file_2014, delimiter=';', on_bad_lines='skip')\n",
    "df_2016 = pd.read_csv(file_2016, delimiter=';', on_bad_lines='skip')\n",
    "df_2018 = pd.read_csv(file_2018, delimiter=';', on_bad_lines='skip')\n",
    "df_2022 = pd.read_csv(file_2022, delimiter=';', on_bad_lines='skip')\n",
    "df_2024 = pd.read_csv(file_2024, delimiter=';', on_bad_lines='skip')\n",
    "\n",
    "df_2011['source_year'] = 2011\n",
    "df_2014['source_year'] = 2014\n",
    "df_2016['source_year'] = 2016\n",
    "df_2018['source_year'] = 2018\n",
    "df_2022['source_year'] = 2022\n",
    "df_2024['source_year'] = 2024\n",
    "\n",
    "def clean_columns(df):\n",
    "    df.columns = (\n",
    "        df.columns.str.strip()\n",
    "                  .str.lower()\n",
    "                  .str.replace(' ', '_')\n",
    "                  .str.replace('/', '_')\n",
    "                  .str.replace('-', '_')\n",
    "    )\n",
    "    return df\n",
    "\n",
    "df_2011 = clean_columns(df_2011)\n",
    "df_2014 = clean_columns(df_2014)\n",
    "df_2016 = clean_columns(df_2016)\n",
    "df_2018 = clean_columns(df_2018)\n",
    "df_2022 = clean_columns(df_2022)\n",
    "df_2024 = clean_columns(df_2024)"
   ]
  },
  {
   "cell_type": "code",
   "execution_count": 9,
   "id": "6b0b1049",
   "metadata": {},
   "outputs": [
    {
     "name": "stdout",
     "output_type": "stream",
     "text": [
      "  region    country      city  annualmeanconcentration  year  \\\n",
      "0  WprHI  Australia  Adelaide                      8.1  2009   \n",
      "1  WprHI  Australia  Brisbane                     10.9  2009   \n",
      "2  WprHI  Australia   Bunbury                      8.3  2009   \n",
      "3  WprHI  Australia  Canberra                      6.2  2009   \n",
      "4  WprHI  Australia    Darwin                      8.3  2009   \n",
      "\n",
      "                                         nblocations temporal_coverage  \\\n",
      "0  1 station, mixed are of light industrial, heav...               NaN   \n",
      "1            1 station, light industrial/residential               NaN   \n",
      "2                                                NaN               99%   \n",
      "3                                  1 station, suburb               91%   \n",
      "4            1 station, residential/light industrial               NaN   \n",
      "\n",
      "                                           reference pollutant  version  \\\n",
      "0  Environmental Protection Agency. Air monitorin...      pm25     2011   \n",
      "1  Queensland Government, Department of Environme...      pm25     2011   \n",
      "2  Government of Western Australia, Department of...      pm25     2011   \n",
      "3  Environmental Protection Authority, ACT air qu...      pm25     2011   \n",
      "4  Northern Territory Government. Northern Territ...      pm25     2011   \n",
      "\n",
      "   longitude  latitude  source_year  \n",
      "0        NaN       NaN         2011  \n",
      "1        NaN       NaN         2011  \n",
      "2        NaN       NaN         2011  \n",
      "3        NaN       NaN         2011  \n",
      "4        NaN       NaN         2011  \n"
     ]
    }
   ],
   "source": [
    "print(df_2011.head())"
   ]
  },
  {
   "cell_type": "code",
   "execution_count": 10,
   "id": "b2e6d464",
   "metadata": {},
   "outputs": [
    {
     "name": "stdout",
     "output_type": "stream",
     "text": [
      "  region    country                       city_station  concentrationpm10  \\\n",
      "0    Afr      Ghana                              Accra               98.0   \n",
      "1    Afr    Liberia                   Buchanan (rural)               66.0   \n",
      "2    Afr    Liberia               Sanniquellie (rural)               52.0   \n",
      "3    Afr  Mauritius  Beau Bassin/Rose Hill, Coromandel              131.0   \n",
      "4    Afr  Mauritius                   Bramsthan, Flacq               37.0   \n",
      "\n",
      "  yearpm10  annualmeanpm25  yearpm25  \\\n",
      "0     2008            49.0    2008.0   \n",
      "1     2009             9.0    2009.0   \n",
      "2     2009            10.0    2009.0   \n",
      "3     2011            66.0       NaN   \n",
      "4     2010            19.0       NaN   \n",
      "\n",
      "                                         nblocations temporal_coverage  \\\n",
      "0      4 residential and 1 roadside station in Accra               NaN   \n",
      "1  1 station: rural, 500m away from community, Osris               54%   \n",
      "2  1 station: rural, within the community, Osiris...               60%   \n",
      "3        1 station: in town of Beau Bassin/Rose Hill          2 months   \n",
      "4                        1 station: in Placq (rural)          2 months   \n",
      "\n",
      "                                           reference latitude longitude  \\\n",
      "0  Dionisio KL, Arku RE, Hughes AF, et al. Air po...      NaN       NaN   \n",
      "1  Nimba Western Area Iron Ore Concentrator Minin...      NaN       NaN   \n",
      "2  Nimba Western Area Iron Ore Concentrator Minin...      NaN       NaN   \n",
      "3  Environment Statistics 2011, Government of Mau...      NaN       NaN   \n",
      "4  Environment Statistics 2010, Government of Mau...      NaN       NaN   \n",
      "\n",
      "   convertedpm10  convertedpm25 yearmerged  version  source_year  \n",
      "0          False          False       2008     2014         2014  \n",
      "1          False          False       2009     2014         2014  \n",
      "2          False          False       2009     2014         2014  \n",
      "3          False           True       2011     2014         2014  \n",
      "4          False           True       2010     2014         2014  \n"
     ]
    }
   ],
   "source": [
    "print(df_2014.head())"
   ]
  },
  {
   "cell_type": "code",
   "execution_count": 11,
   "id": "a1b57138",
   "metadata": {},
   "outputs": [
    {
     "name": "stdout",
     "output_type": "stream",
     "text": [
      "    region iso3      country           city_town  concentrationpm10  \\\n",
      "0  Emr LMI  AFG  Afghanistan               Kabul                260   \n",
      "1  Emr LMI  AFG  Afghanistan      Mazar-e Sharif                334   \n",
      "2  Eur LMI  ALB      Albania              TIRANA                 32   \n",
      "3   Eur HI  AND      Andorra  Escaldes-Engordany                 18   \n",
      "4   Amr HI  ARG    Argentina        Buenos Aires                 26   \n",
      "\n",
      "   annualmeanpm25  year                        nblocationspm25  \\\n",
      "0            86.0  2009            1 station, 1 station: urban   \n",
      "1            68.0  2009  1 station, 1 station: urban outskirts   \n",
      "2            16.0  2013              1 station, traffic, urban   \n",
      "3            11.0  2014                       1 station, urban   \n",
      "4            14.0  2015                                    NaN   \n",
      "\n",
      "   temporal_coverage                                          reference  \\\n",
      "0                NaN  Magnusson et al., Broad Exposure Screening of ...   \n",
      "1                NaN  Magnusson et al., Broad Exposure Screening of ...   \n",
      "2                NaN  European Environment Agency, Air quality e-rep...   \n",
      "3                NaN                       Qualitat de l'aire a Andorra   \n",
      "4                NaN      Agencia de Proteccion Ambiental, Buenos Aires   \n",
      "\n",
      "   latitude  longitude convertionpm10       convertionpm25  \\\n",
      "0       NaN        NaN  measured data        measured data   \n",
      "1       NaN        NaN  measured data        measured data   \n",
      "2       NaN        NaN  measured data        measured data   \n",
      "3       NaN        NaN  measured data        measured data   \n",
      "4       NaN        NaN  measured data  converted from PM10   \n",
      "\n",
      "                         nblocationspm10  version  convertedpm10  \\\n",
      "0            1 station, 1 station: urban     2016          False   \n",
      "1  1 station, 1 station: urban outskirts     2016          False   \n",
      "2              1 station, traffic, urban     2016          False   \n",
      "3                       1 station, urban     2016          False   \n",
      "4     3 stations, residencial commercial     2016          False   \n",
      "\n",
      "   convertedpm25  source_year  \n",
      "0          False         2016  \n",
      "1          False         2016  \n",
      "2          False         2016  \n",
      "3          False         2016  \n",
      "4           True         2016  \n"
     ]
    }
   ],
   "source": [
    "print(df_2016.head())"
   ]
  },
  {
   "cell_type": "code",
   "execution_count": 12,
   "id": "6d4ad226",
   "metadata": {},
   "outputs": [
    {
     "name": "stdout",
     "output_type": "stream",
     "text": [
      "          region iso3  country city_town  year concentrationpm10  \\\n",
      "0  Europe (LMIC)  ALB  Albania     Korce  2015                45   \n",
      "1  Europe (LMIC)  ALB  Albania     Korce  2016                40   \n",
      "2  Europe (LMIC)  ALB  Albania    Tirana  2013                32   \n",
      "3  Europe (LMIC)  ALB  Albania     Vlore  2014                15   \n",
      "4  Europe (LMIC)  ALB  Albania     Vlore  2015                19   \n",
      "\n",
      "  convertionpm10     concentrationpm25 convertionpm25  version  \\\n",
      "0       Measured                    30       Measured     2018   \n",
      "1       Measured                    29       Measured     2018   \n",
      "2       Measured                    16       Measured     2018   \n",
      "3       Measured  (10)-converted value      Converted     2018   \n",
      "4       Measured  (13)-converted value      Converted     2018   \n",
      "\n",
      "   announcedversion                                          reference  \\\n",
      "0              2018  The European Environmental Agency (EEA) [downl...   \n",
      "1              2018  The European Environmental Agency (EEA) [downl...   \n",
      "2              2016  European Environment Agency, Air quality e-rep...   \n",
      "3              2018  The European Environmental Agency (EEA) [downl...   \n",
      "4              2018  The European Environmental Agency (EEA) [downl...   \n",
      "\n",
      "   convertedpm10  convertedpm25  source_year  \n",
      "0          False          False         2018  \n",
      "1          False          False         2018  \n",
      "2          False          False         2018  \n",
      "3          False           True         2018  \n",
      "4          False           True         2018  \n"
     ]
    }
   ],
   "source": [
    "print(df_2018.head())"
   ]
  },
  {
   "cell_type": "code",
   "execution_count": 13,
   "id": "951c1c32",
   "metadata": {},
   "outputs": [
    {
     "name": "stdout",
     "output_type": "stream",
     "text": [
      "                         region iso3      country city_town  year  \\\n",
      "0  Eastern Mediterranean Region  AFG  Afghanistan     Kabul  2019   \n",
      "1               European Region  ALB      Albania    Durres  2015   \n",
      "2               European Region  ALB      Albania    Durres  2016   \n",
      "3               European Region  ALB      Albania   Elbasan  2015   \n",
      "4               European Region  ALB      Albania   Elbasan  2016   \n",
      "\n",
      "   concentrationpm10  concentrationpm25  concentrationno2  \\\n",
      "0                NaN             119.77               NaN   \n",
      "1              17.65                NaN             26.63   \n",
      "2              24.56              14.32             24.78   \n",
      "3                NaN                NaN             23.96   \n",
      "4                NaN                NaN             26.26   \n",
      "\n",
      "                                           reference nblocations  version  \\\n",
      "0  U.S. Department of State, United States Enviro...         NaN     2022   \n",
      "1   European Environment Agency (downloaded in 2021)         NaN     2022   \n",
      "2   European Environment Agency (downloaded in 2021)         NaN     2022   \n",
      "3   European Environment Agency (downloaded in 2021)         NaN     2022   \n",
      "4   European Environment Agency (downloaded in 2021)         NaN     2022   \n",
      "\n",
      "   announcedversion  source_year  \n",
      "0              2022         2022  \n",
      "1              2022         2022  \n",
      "2              2022         2022  \n",
      "3              2022         2022  \n",
      "4              2022         2022  \n"
     ]
    }
   ],
   "source": [
    "print(df_2022.head())"
   ]
  },
  {
   "cell_type": "code",
   "execution_count": 14,
   "id": "632ba61b",
   "metadata": {},
   "outputs": [
    {
     "name": "stdout",
     "output_type": "stream",
     "text": [
      "  region iso3 country     city_town    year  \\\n",
      "0  4_Eur  ESP   Spain  A Coruna/ESP  2013.0   \n",
      "1  4_Eur  ESP   Spain  A Coruna/ESP  2014.0   \n",
      "2  4_Eur  ESP   Spain  A Coruna/ESP  2015.0   \n",
      "3  4_Eur  ESP   Spain  A Coruna/ESP  2016.0   \n",
      "4  4_Eur  ESP   Spain  A Coruna/ESP  2017.0   \n",
      "\n",
      "                                    announcedversion  version  \\\n",
      "0  V4.0 (2018), V4.0 (2018), V4.0 (2018), V4.0 (2...     2024   \n",
      "1           V6.0  (2023), V6.0  (2023), V6.0  (2023)     2024   \n",
      "2  V6.0  (2023), V6.0  (2023), V6.0  (2023), V6.0...     2024   \n",
      "3  V6.0  (2023), V6.0  (2023), V6.0  (2023), V6.0...     2024   \n",
      "4  V6.0  (2023), V6.0  (2023), V6.0  (2023), V6.0...     2024   \n",
      "\n",
      "   concentrationpm10  concentrationpm25  concentrationno2   latitude  \\\n",
      "0             23.238             11.491            28.841  43.367900   \n",
      "1             27.476             15.878            19.575  43.368033   \n",
      "2             25.515             14.004            22.731  43.370375   \n",
      "3             23.057             13.160            20.204  43.370375   \n",
      "4             26.849             14.114            21.543  43.370375   \n",
      "\n",
      "   longitude reference  source_year  \n",
      "0  -8.418571       NaN         2024  \n",
      "1  -8.418233       NaN         2024  \n",
      "2  -8.422900       NaN         2024  \n",
      "3  -8.422900       NaN         2024  \n",
      "4  -8.422900       NaN         2024  \n"
     ]
    }
   ],
   "source": [
    "print(df_2024.head())"
   ]
  }
 ],
 "metadata": {
  "kernelspec": {
   "display_name": "base",
   "language": "python",
   "name": "python3"
  },
  "language_info": {
   "codemirror_mode": {
    "name": "ipython",
    "version": 3
   },
   "file_extension": ".py",
   "mimetype": "text/x-python",
   "name": "python",
   "nbconvert_exporter": "python",
   "pygments_lexer": "ipython3",
   "version": "3.8.18"
  }
 },
 "nbformat": 4,
 "nbformat_minor": 5
}
